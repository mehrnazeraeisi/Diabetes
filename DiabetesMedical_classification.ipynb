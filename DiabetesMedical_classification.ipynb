{
  "nbformat": 4,
  "nbformat_minor": 0,
  "metadata": {
    "colab": {
      "provenance": [],
      "authorship_tag": "ABX9TyORMEW14+AuptH45IqKwe35",
      "include_colab_link": true
    },
    "kernelspec": {
      "name": "python3",
      "display_name": "Python 3"
    },
    "language_info": {
      "name": "python"
    }
  },
  "cells": [
    {
      "cell_type": "markdown",
      "metadata": {
        "id": "view-in-github",
        "colab_type": "text"
      },
      "source": [
        "<a href=\"https://colab.research.google.com/github/mehrnazeraeisi/Diabetes/blob/main/DiabetesMedical_classification.ipynb\" target=\"_parent\"><img src=\"https://colab.research.google.com/assets/colab-badge.svg\" alt=\"Open In Colab\"/></a>"
      ]
    },
    {
      "cell_type": "code",
      "source": [
        "import numpy as np\n",
        "import pandas as pd\n",
        "from sklearn.datasets import load_diabetes\n",
        "from sklearn.model_selection import train_test_split\n",
        "from sklearn.preprocessing import StandardScaler\n",
        "from sklearn.neighbors import KNeighborsClassifier\n",
        "from sklearn.cluster import KMeans\n",
        "from sklearn.metrics import accuracy_score, classification_report\n",
        "import warnings\n",
        "warnings.filterwarnings(\"ignore\")\n",
        "\n",
        "# Load data\n",
        "data = load_diabetes()\n",
        "df = pd.DataFrame(data.data, columns=data.feature_names)\n",
        "df['target'] = data.target\n",
        "\n",
        "X = df.drop('target', axis=1)\n",
        "y_continuous = df['target']\n",
        "\n",
        "# بخش A: خوشه‌بندی با KMeans\n",
        "def classify_by_kmeans(y, k=3):\n",
        "    kmeans = KMeans(n_clusters=k, random_state=None)\n",
        "    y_clusters = kmeans.fit_predict(y.values.reshape(-1, 1))\n",
        "    return y_clusters\n",
        "\n",
        "# بخش B: دسته‌بندی پزشکی\n",
        "def classify_by_rules(y, timing='before'):\n",
        "    def classify(target):\n",
        "        if target < 70:\n",
        "            return 0  # Low\n",
        "        elif timing == 'before':\n",
        "            return 1 if target <= 100 else 2  # Normal / High\n",
        "        elif timing == 'after':\n",
        "            return 1 if target < 140 else 2\n",
        "        else:\n",
        "            return -1\n",
        "    return y.apply(classify)\n",
        "\n",
        "# آماده‌سازی داده‌ها\n",
        "X_train, X_test, y_train_cont, y_test_cont = train_test_split(X, y_continuous, test_size=0.3, shuffle=True)\n",
        "\n",
        "scaler = StandardScaler()\n",
        "X_train_scaled = scaler.fit_transform(X_train)\n",
        "X_test_scaled = scaler.transform(X_test)\n",
        "\n",
        "### مدل A: KMeans + KNN\n",
        "y_train_kmeans = classify_by_kmeans(y_train_cont)\n",
        "y_test_kmeans = classify_by_kmeans(y_test_cont)  # فقط برای مقایسه دقیق\n",
        "\n",
        "knn_kmeans = KNeighborsClassifier(n_neighbors=5)\n",
        "knn_kmeans.fit(X_train_scaled, y_train_kmeans)\n",
        "y_pred_kmeans = knn_kmeans.predict(X_test_scaled)\n",
        "\n",
        "print(\"🎯 مدل A: بر اساس خوشه‌بندی KMeans\")\n",
        "print(\"Accuracy:\", accuracy_score(y_test_kmeans, y_pred_kmeans))\n",
        "\n",
        "\n",
        "### مدل B: دسته‌بندی دستی پزشکی + KNN\n",
        "y_train_manual = classify_by_rules(y_train_cont, timing='before')\n",
        "y_test_manual = classify_by_rules(y_test_cont, timing='before')\n",
        "\n",
        "knn_manual = KNeighborsClassifier(n_neighbors=5)\n",
        "knn_manual.fit(X_train_scaled, y_train_manual)\n",
        "y_pred_manual = knn_manual.predict(X_test_scaled)\n",
        "\n",
        "print(\"\\n🩺 مدل B: بر اساس دسته‌بندی پزشکی\")\n",
        "print(\"Accuracy:\", accuracy_score(y_test_manual, y_pred_manual))"
      ],
      "metadata": {
        "colab": {
          "base_uri": "https://localhost:8080/"
        },
        "id": "Zb2sl-WnONmG",
        "outputId": "0223e3ea-237b-44c9-bf28-0847a6577144"
      },
      "execution_count": 19,
      "outputs": [
        {
          "output_type": "stream",
          "name": "stdout",
          "text": [
            "🎯 مدل A: بر اساس خوشه‌بندی KMeans\n",
            "Accuracy: 0.2631578947368421\n",
            "\n",
            "🩺 مدل B: بر اساس دسته‌بندی پزشکی\n",
            "Accuracy: 0.6466165413533834\n"
          ]
        }
      ]
    },
    {
      "cell_type": "code",
      "source": [],
      "metadata": {
        "id": "jVhhihIOOOVw"
      },
      "execution_count": 17,
      "outputs": []
    }
  ]
}